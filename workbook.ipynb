{
 "cells": [
  {
   "cell_type": "code",
   "execution_count": 5,
   "metadata": {},
   "outputs": [
    {
     "data": {
      "text/html": [
       "<style>\n",
       "    @font-face {\n",
       "        font-family: \"Computer Modern\";\n",
       "        src: url('http://mirrors.ctan.org/fonts/cm-unicode/fonts/otf/cmunss.otf');\n",
       "    }\n",
       "    @font-face {\n",
       "        font-family: \"Computer Modern\";\n",
       "        src: url('http://mirrors.ctan.org/fonts/cm-unicode/fonts/otf/cmunsx.otf');\n",
       "        font-weight: bold;\n",
       "    }\n",
       "    @font-face {\n",
       "        font-family: \"Computer Modern\";\n",
       "        src: url('http://mirrors.ctan.org/fonts/cm-unicode/fonts/otf/cmunsi.otf');\n",
       "        font-style: italic, oblique;\n",
       "    }\n",
       "    @font-face {\n",
       "        font-family: \"Computer Modern\";\n",
       "        src: url('http://mirrors.ctan.org/fonts/cm-unicode/fonts/otf/cmunbxo.otf');\n",
       "        font-weight: bold;\n",
       "        font-style: italic, oblique;\n",
       "    }\n",
       "    .text_cell { font-family: \"Computer Modern\", \"Palatino\", \"Palatino Linotype\", serif; }\n",
       "    .code_cell:first-child { display: none; } \n",
       "    h1, h2, h3, h4 { text-align: center; }\n",
       "</style>"
      ],
      "text/plain": [
       "<IPython.core.display.HTML object>"
      ]
     },
     "metadata": {},
     "output_type": "display_data"
    }
   ],
   "source": [
    "%%html\n",
    "<style>\n",
    "    @font-face {\n",
    "        font-family: \"Computer Modern\";\n",
    "        src: url('http://mirrors.ctan.org/fonts/cm-unicode/fonts/otf/cmunss.otf');\n",
    "    }\n",
    "    @font-face {\n",
    "        font-family: \"Computer Modern\";\n",
    "        src: url('http://mirrors.ctan.org/fonts/cm-unicode/fonts/otf/cmunsx.otf');\n",
    "        font-weight: bold;\n",
    "    }\n",
    "    @font-face {\n",
    "        font-family: \"Computer Modern\";\n",
    "        src: url('http://mirrors.ctan.org/fonts/cm-unicode/fonts/otf/cmunsi.otf');\n",
    "        font-style: italic, oblique;\n",
    "    }\n",
    "    @font-face {\n",
    "        font-family: \"Computer Modern\";\n",
    "        src: url('http://mirrors.ctan.org/fonts/cm-unicode/fonts/otf/cmunbxo.otf');\n",
    "        font-weight: bold;\n",
    "        font-style: italic, oblique;\n",
    "    }\n",
    "    .text_cell { font-family: \"Computer Modern\", \"Palatino\", \"Palatino Linotype\", serif; }\n",
    "    .code_cell:first-child { display: none; } \n",
    "    h1, h2, h3, h4 { text-align: center; }\n",
    "</style>"
   ]
  },
  {
   "cell_type": "markdown",
   "metadata": {},
   "source": [
    "# Chaotic Behavior of the Triple Pendulum\n",
    "## A Computational Approach\n",
    "\n",
    "#### Rachel Bass and Cory McCartan"
   ]
  },
  {
   "cell_type": "code",
   "execution_count": 6,
   "metadata": {
    "collapsed": true
   },
   "outputs": [],
   "source": [
    "%%capture\n",
    "\n",
    "# Set-up and formatting\n",
    "\n",
    "%pylab inline\n",
    "from scipy.integrate import odeint \n",
    "from scipy.interpolate import UnivariateSpline\n",
    "\n",
    "from IPython.core.interactiveshell import InteractiveShell\n",
    "InteractiveShell.ast_node_interactivity = \"all\" # print out value of variable without needing print statement\n",
    "%config InlineBackend.figure_format = \"retina\"  # higher-def plots\n",
    "figsize(15, 7) # larger plots"
   ]
  },
  {
   "cell_type": "markdown",
   "metadata": {
    "collapsed": true
   },
   "source": [
    "## Setup\n",
    "\n",
    "We begin by defining the constants for our system. The equations of motion for the triple pendulum are \n",
    "\\begin{equation}\n",
    "\\begin{pmatrix}\n",
    "    \\ddot\\phi_1 \\\\\n",
    "    \\ddot\\phi_2 \\\\\n",
    "    \\ddot\\phi_3\n",
    "\\end{pmatrix} = \\begin{pmatrix}\n",
    "    3                    & 2\\cos(\\phi_1-\\phi_2) & \\cos(\\phi_1-\\phi_3) \\\\\n",
    "    2\\cos(\\phi_1-\\phi_2) & 2                    & \\cos(\\phi_2-\\phi_3) \\\\\n",
    "    \\cos(\\phi_1-\\phi_3)  & \\cos(\\phi_2-\\phi_3)  & 1                   \\\\\n",
    "\\end{pmatrix}^{-1}\n",
    "\\begin{pmatrix}\n",
    "    \\dot\\phi_3^2\\sin(\\phi_1-\\phi_3) -2\\dot\\phi_2^2\\sin(\\phi_1-\\phi_2)\n",
    "        +\\frac{3g}{l}\\sin\\phi_1 \\\\\n",
    "    \\dot\\phi_3^2\\sin(\\phi_2-\\phi_3) - 2\\dot\\phi_1^2\\sin(\\phi_1-\\phi_2)\n",
    "        +\\frac{2g}{l}\\sin\\phi_2 \\\\\n",
    "    \\dot\\phi_2^2\\sin(\\phi_2-\\phi_3) -\\dot\\phi_1^2\\sin(\\phi_1-\\phi_3)\n",
    "        +\\frac{g}{l}\\sin\\phi_3\n",
    "\\end{pmatrix},\n",
    "\\end{equation}\n",
    "which as we can see depend only on the angles and angular velocities of the masses, as well as $g$ and $l$."
   ]
  },
  {
   "cell_type": "code",
   "execution_count": 7,
   "metadata": {
    "collapsed": true
   },
   "outputs": [],
   "source": [
    "# Constants\n",
    "g = 9.8 # m/s^2\n",
    "l = 0.5 # m"
   ]
  },
  {
   "cell_type": "code",
   "execution_count": 38,
   "metadata": {
    "collapsed": true
   },
   "outputs": [],
   "source": [
    "# Mechanics of triple pendulum system.\n",
    "# Passed into odeint function.\n",
    "def triple_pendulum(r, t, g, l):\n",
    "    phi_1, phi_2, phi_3, dphi_1, dphi_2, dphi_3 = r # unpack variables\n",
    "    \n",
    "    # precalculate trig functions\n",
    "    cos_1_2 = cos(phi_1 - phi_2)\n",
    "    cos_1_3 = cos(phi_1 - phi_3)\n",
    "    cos_2_3 = cos(phi_2 - phi_3)\n",
    "    sin_1_2 = sin(phi_1 - phi_2)\n",
    "    sin_1_3 = sin(phi_1 - phi_3)\n",
    "    sin_2_3 = sin(phi_2 - phi_3)\n",
    "    \n",
    "    # define arrays and vectors\n",
    "    A = array([[3,         2*cos_1_2, cos_1_3],\n",
    "               [2*cos_1_2, 2,         cos_2_3],\n",
    "               [cos_1_3,   cos_2_3,   1      ]])\n",
    "    \n",
    "    B = array([dphi_3**2 * sin_1_3 - 2*dphi_2**2 * sin_1_2 + 3*g*sin(phi_1)/l,\n",
    "                dphi_3**2 * sin_2_3 - 2*dphi_1**2 * sin_1_2 + 2*g*sin(phi_2)/l,\n",
    "                dphi_2**2 * sin_2_3 -   dphi_1**2 * sin_1_3 +   g*sin(phi_3)/l])\n",
    "    \n",
    "    return matmul(inv(A), B)"
   ]
  },
  {
   "cell_type": "code",
   "execution_count": null,
   "metadata": {
    "collapsed": true
   },
   "outputs": [],
   "source": []
  }
 ],
 "metadata": {
  "kernelspec": {
   "display_name": "Python 3",
   "language": "python",
   "name": "python3"
  },
  "language_info": {
   "codemirror_mode": {
    "name": "ipython",
    "version": 3
   },
   "file_extension": ".py",
   "mimetype": "text/x-python",
   "name": "python",
   "nbconvert_exporter": "python",
   "pygments_lexer": "ipython3",
   "version": "3.6.1"
  }
 },
 "nbformat": 4,
 "nbformat_minor": 2
}
